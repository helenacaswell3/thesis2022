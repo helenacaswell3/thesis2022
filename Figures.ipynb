{
 "cells": [
  {
   "cell_type": "markdown",
   "metadata": {},
   "source": [
    "# Figures\n",
    "Creates figures for the report. Result data from the main spreadsheet is first loaded into \"County.xlsx\" and \"State.xlsx\" depending on the granularity of the final results. The data from these spreadsheets are used to make heat maps and other plots."
   ]
  },
  {
   "cell_type": "code",
   "execution_count": null,
   "metadata": {},
   "outputs": [],
   "source": [
    "#Packages\n",
    "import plotly.express as px\n",
    "import pandas as pd\n",
    "\n",
    "#Get county outlines json\n",
    "from urllib.request import urlopen\n",
    "import json\n",
    "with urlopen('https://raw.githubusercontent.com/plotly/datasets/master/geojson-counties-fips.json') as response:\n",
    "    counties = json.load(response)\n",
    "    \n",
    "\n",
    "print('Packages Loaded.')"
   ]
  },
  {
   "cell_type": "code",
   "execution_count": null,
   "metadata": {},
   "outputs": [],
   "source": [
    "\n",
    "def usheatmap(df, colname, title, div=False, colorscale=\"OrRd\",label = \"\",maxscale=None):\n",
    "    #create us county level heatmap for column of data frame with column 'FIPS'\n",
    "    if maxscale==None:\n",
    "        maxscale=df[colname].max()\n",
    "    #divergent heatmap\n",
    "    if div:\n",
    "            fig = px.choropleth(df, geojson=counties, locations='FIPS', color=colname,\n",
    "                        color_continuous_scale=colorscale,\n",
    "                        color_continuous_midpoint = 0,\n",
    "                        scope=\"usa\",\n",
    "                        labels={colname:label}\n",
    "                        )\n",
    "    #continuous color range\n",
    "    else:    \n",
    "        fig = px.choropleth(df, geojson=counties, locations='FIPS', color=colname,\n",
    "                            color_continuous_scale=colorscale,\n",
    "                            range_color=(df[colname].min(),maxscale),\n",
    "                            scope=\"usa\",\n",
    "                            labels={colname:label},\n",
    "                            )\n",
    "    fig.update_layout(title_text=title, title_x=0.5)\n",
    "    fig.update_layout(width=1000, height=400, margin={\"r\":0,\"t\":25,\"l\":0,\"b\":0})#\n",
    "    fig.show()\n",
    "    fig.write_image(colname+'.jpeg')\n",
    "    \n"
   ]
  },
  {
   "cell_type": "markdown",
   "metadata": {},
   "source": [
    "## County maps for Health Effects and NPV"
   ]
  },
  {
   "cell_type": "code",
   "execution_count": null,
   "metadata": {
    "scrolled": true
   },
   "outputs": [],
   "source": [
    "# Add NPV Maps and Figures Here\n",
    "\n",
    "fil='CountyData.xlsx'\n",
    "\n",
    "df=pd.read_excel(fil,dtype={'FIPS':str})\n",
    "\n",
    "usheatmap(df,'gasstoves',\n",
    "          \"Cost of Asthma from Gas Stoves\",\n",
    "           label =\"$/Household/Yr\", colorscale='OrRd', div=False)\n",
    "usheatmap(df,'coldstress',\n",
    "          \"Cost of Cold Stress from Inefficient Homes\",\n",
    "           label =\"$/Household/Yr\", colorscale='OrRd', div=False, maxscale=25000)\n",
    "usheatmap(df,'Annual Energy Savings',\n",
    "          \"Annual Energy Savings from Retrofits\",\n",
    "           label =\"$/Household/Yr\", colorscale='OrRd', div=False)\n",
    "usheatmap(df,'NPV_e',\n",
    "          \"NPV with Energy Use Only\",\n",
    "           label =\"$/Household\", colorscale='RdBu', div=True)\n",
    "\n",
    "usheatmap(df,'Private Health Savings',\n",
    "          \"Private Health Benefits\",\n",
    "           label =\"$/Household/Yr\", colorscale='OrRd', div=False, maxscale=180)\n",
    "usheatmap(df,'NPV_priv',\n",
    "          \"NPV with Private Health Benefits and Energy Use\",\n",
    "           label =\"$/Household\", colorscale='RdBu', div=True)\n",
    "usheatmap(df,'Total Annual Health Savings',\n",
    "          \"Public and Private Annual Health Benefits from Retrofits\",\n",
    "           label =\"$/Household/Yr\", colorscale='OrRd', div=False, maxscale=35000)\n",
    "usheatmap(df,'NPV_health',\n",
    "          \"NPV with Public and Private Benefits\",\n",
    "           label =\"$/Household\", colorscale='Blues', div=False, maxscale=800000)\n",
    "usheatmap(df,'NPV_climate',\n",
    "          \"NPV with Public and Private Benefits including Social Cost of Carbon ($/Household)\",\n",
    "           label =\"$/Household\", colorscale='Blues', div=False, maxscale=850000)\n"
   ]
  },
  {
   "cell_type": "markdown",
   "metadata": {},
   "source": [
    "## NPV Violin/ Box Plots"
   ]
  },
  {
   "cell_type": "code",
   "execution_count": null,
   "metadata": {},
   "outputs": [],
   "source": [
    "# Violin plots\n",
    "import matplotlib.pyplot as plt\n",
    "import numpy as np\n",
    "from matplotlib.ticker import FuncFormatter\n",
    "\n",
    "#Violin Plots of Metrics\n",
    "fig, ax = plt.subplots()\n",
    "# build a violin plot\n",
    "ax.violinplot(np.column_stack((df['NPV_e'], df['NPV_priv'], df['NPV_health'])), vert=False, showmeans=True, showmedians=True)\n",
    "\n",
    "# add title and axis labels\n",
    "ax.set_title('NPV')\n",
    "# ax.set_xlabel('')\n",
    "ax.set_xlabel('NPV ($)')\n",
    "\n",
    "# add x-tick labels\n",
    "yticklabels = ['Energy Only', 'Private', 'Public+Private']\n",
    "ax.set_yticks([1,2,3])\n",
    "ax.set_yticklabels(yticklabels)\n",
    "f = lambda x, pos: f'${x/10**6:,.2f}M'\n",
    "ax.xaxis.set_major_formatter(FuncFormatter(f))\n",
    "# add horizontal grid lines\n",
    "ax.xaxis.grid(True)\n",
    "\n",
    "# show the plot\n",
    "plt.show()\n",
    "\n",
    "\n",
    "# Box Plot\n",
    "fig, ax = plt.subplots()\n",
    "# build a violin plot\n",
    "ax.boxplot(np.column_stack((df['NPV_e'], df['NPV_priv'], df['NPV_health'])), vert=False)\n",
    "\n",
    "# add x-tick labels\n",
    "yticklabels = ['Energy Only', 'Private', 'Public+Private']\n",
    "ax.set_yticks([1,2,3])\n",
    "ax.set_yticklabels(yticklabels)\n",
    "f = lambda x, pos: f'${x/10**6:,.2f}M'\n",
    "ax.xaxis.set_major_formatter(FuncFormatter(f))\n",
    "\n",
    "# add horizontal grid lines\n",
    "plt.axvline(0, color='lightgrey')\n",
    "fig.set_figwidth(10)\n",
    "fig.set_figheight(4)\n",
    "# show the plot\n",
    "plt.show()\n"
   ]
  },
  {
   "cell_type": "markdown",
   "metadata": {},
   "source": [
    "## Energy Burden Plots"
   ]
  },
  {
   "cell_type": "code",
   "execution_count": null,
   "metadata": {
    "scrolled": false
   },
   "outputs": [],
   "source": [
    "df['Burden_pre_deltat'] = df['Burden_pre_tax'] - df['Burden_pre_nt']\n",
    "df['Burden_delta_nt'] =  df['Burden_post_nt'] -df['Burden_pre_nt']\n",
    "df['Burden_delta_delta'] = df['Burden_post_tax']- df['Burden_pre_nt']\n",
    "\n",
    "usheatmap(df,'Burden_pre_nt',\n",
    "          \"Baseline Energy Burden\",\n",
    "           label =\"%\", colorscale='Greys', div=False)\n",
    "usheatmap(df,'Burden_pre_deltat',\n",
    "          \"Change in Energy Burden with a $51/MT Carbon Price\",\n",
    "           label =\"%\", colorscale='OrRd', div=False)\n",
    "usheatmap(df,'Burden_delta_nt',\n",
    "          \"Change in Energy Burden with Retrofits\",\n",
    "           label =\"%\", colorscale='Blues_r', div=False)\n",
    "usheatmap(df,'Burden_delta_delta',\n",
    "          \"Change in Energy Burden with Retrofits + Carbon Price\",\n",
    "           label =\"%\", colorscale='RdBu_r', div=True)\n",
    "\n",
    "\n",
    "# usheatmap(df,'Burden_pre_tax',\n",
    "#           \"Existing Energy Burden (Expenditures/Income) with 51$/ton Carbon Tax\",\n",
    "#            label =\"%\", colorscale='OrRd', div=False)\n",
    "# usheatmap(df,'Burden_post_nt',\n",
    "#           \"Energy Burden (Expenditures/Income) with Retrofits\",\n",
    "#            label =\"%\", colorscale='OrRd', div=False)\n",
    "# usheatmap(df,'Burden_post_tax',\n",
    "#           \"Energy Burden (Expenditures/Income) with Retrofits and 51$/ton Carbon Tax\",\n",
    "#            label =\"%\", colorscale='OrRd', div=False)"
   ]
  },
  {
   "cell_type": "markdown",
   "metadata": {},
   "source": [
    "## Energy Burden Violin Plots"
   ]
  },
  {
   "cell_type": "code",
   "execution_count": null,
   "metadata": {},
   "outputs": [],
   "source": [
    "# Violin plots\n",
    "import matplotlib.pyplot as plt\n",
    "import numpy as np\n",
    "\n",
    "#Violin Plots of Metrics\n",
    "fig, ax = plt.subplots()\n",
    "# build a violin plot\n",
    "violin_parts = ax.violinplot(np.column_stack((df['Burden_pre_nt'], df['Burden_pre_tax'], df['Burden_post_nt'], df['Burden_post_tax'])), \n",
    "                             vert=False, showmeans=True, showmedians=False)\n",
    "\n",
    "for pc in violin_parts['bodies']:\n",
    "    pc.set_facecolor('orange')\n",
    "    pc.set_edgecolor('orange')\n",
    "violin_parts['cmeans'].set_color('darkorange')\n",
    "# violin_parts['cmedians'].set_color('red')\n",
    "violin_parts['cbars'].set_color('darkorange')\n",
    "violin_parts['cmins'].set_color('darkorange')\n",
    "violin_parts['cmaxes'].set_color('darkorange')\n",
    "\n",
    "# add title and axis labels\n",
    "ax.set_title('Energy Burden Ranges in Different Scenarios')\n",
    "# ax.set_xlabel('')\n",
    "ax.set_xlabel('Energy Expenditures/Income')\n",
    "\n",
    "# add x-tick labels\n",
    "yticklabels = ['Baseline', 'Baseline with Tax', 'Retrofits', 'Retrofits and Tax']\n",
    "ax.set_yticks([1,2,3,4])\n",
    "ax.set_yticklabels(yticklabels)\n",
    "\n",
    "# add horizontal grid lines\n",
    "ax.xaxis.grid(True)\n",
    "\n",
    "# show the plot\n",
    "plt.show()\n"
   ]
  },
  {
   "cell_type": "markdown",
   "metadata": {},
   "source": [
    "## State Health Effect Maps"
   ]
  },
  {
   "cell_type": "code",
   "execution_count": null,
   "metadata": {},
   "outputs": [],
   "source": [
    "#load data\n",
    "fil='CountyData.xlsx'\n",
    "fil2='StateData.xlsx'\n",
    "\n",
    "df=pd.read_excel(fil,dtype={'FIPS':str})\n",
    "# print(df)\n",
    "df2=pd.read_excel(fil2)\n",
    "# print(df2)\n",
    "\n",
    "#name is the title of the data frame\n",
    "#Use for Titling Health Figures\n",
    "fig_title_dict = {'gasstoves': 'Cost of Asthma from Gas Stoves ($/Household/Year)', \n",
    "                  'weatherization': 'Cost of Asthma from Poor Insulation and Lack of Air Sealing', \n",
    "                  'heatstress': 'Cost of Heat Stress from Inefficient Housing', \n",
    "                  'coldstress': 'Cost of Cold Stress ($/Household/Year)',\n",
    "                  'workdays': 'Cost of Missed Workdays',\n",
    "                  'GHG':'Average Annual Residential GHG Emissions for Households Below 200FPL (kg CO2e/Household/Year)',\n",
    "                  'hot':'Cost of Morbidity and Mortality from Heat Stress ($/Household/Yr)','cold':''}\n"
   ]
  },
  {
   "cell_type": "code",
   "execution_count": null,
   "metadata": {},
   "outputs": [],
   "source": [
    "# create state level figure\n",
    "#'Code' should be two letter state code\n",
    "\n",
    "def usheatmap_state(name):\n",
    "    \n",
    "    fig = px.choropleth(df2,\n",
    "                    locations='State Code',\n",
    "                    color=name,\n",
    "                    color_continuous_scale='OrRd',\n",
    "                    #hover_name='State',\n",
    "                    locationmode='USA-states',\n",
    "                    labels={name:'$/Household/Yr'},\n",
    "                    scope='usa')\n",
    "    fig.update_layout(title_text=fig_title_dict[name], title_x=0.5)\n",
    "    fig.update_layout(width=1000, height=400, margin={\"r\":0,\"t\":25,\"l\":0,\"b\":0})#\n",
    "    fig.show()\n",
    "    fig.write_image(name+'.jpeg')\n",
    "    \n",
    "# usheatmap_state('weatherization')"
   ]
  },
  {
   "cell_type": "code",
   "execution_count": null,
   "metadata": {
    "scrolled": true
   },
   "outputs": [],
   "source": [
    "\n",
    "usheatmap_state(\"hot\")\n",
    "usheatmap_state(\"workdays\")\n",
    "usheatmap_state(\"weatherization\")"
   ]
  }
 ],
 "metadata": {
  "kernelspec": {
   "display_name": "Python 3",
   "language": "python",
   "name": "python3"
  },
  "language_info": {
   "codemirror_mode": {
    "name": "ipython",
    "version": 3
   },
   "file_extension": ".py",
   "mimetype": "text/x-python",
   "name": "python",
   "nbconvert_exporter": "python",
   "pygments_lexer": "ipython3",
   "version": "3.8.5"
  }
 },
 "nbformat": 4,
 "nbformat_minor": 2
}
